{
 "cells": [
  {
   "cell_type": "markdown",
   "metadata": {},
   "source": [
    "# Notebook for the systematic collection of DWD data\n",
    "\n",
    "**Setup - once**\n",
    "\n",
    "1. Install [MySQL](https://dev.mysql.com/doc/mysql-getting-started/en/): Comes with the MySQL workbench which allows you to manage data sets separately and test queries.\n",
    "2. Install [PowerBI desktop](https://powerbi.microsoft.com/en-us/desktop/): for some visualization\n",
    "3. Make sure you have the libraries installed for querying a DB:\n",
    "```shell script\n",
    "pip install mysql-connector-python\n",
    "pip install SQLAlchemy\n",
    "```\n",
    "\n",
    "**Setup - every time you just started your jupyter notebook/lab**\n",
    "\n",
    "Preparatory steps before being able to write to MySQL tables:\n",
    "1. start your MySQL workbench\n",
    "2. create / connect to your database in MySQL workbench\n",
    "3. go to \"Server\" > \"Startup/Shutdown\" and click the \"Start Server\" button\n",
    "4. enter your server credentials when prompted \n",
    "5. now you are ready to run queries over your data set from the workbench, this notebook or any script\n",
    "\n",
    "\n",
    "\n",
    "**Objective of this notebook:**\n",
    "1. extract/download all zip files and related text documents from a specific url like the annual historical data [here](https://opendata.dwd.de/climate_environment/CDC/observations_germany/climate/annual/kl/historical/)\n",
    "2. transform the relevant content from the zip files\n",
    "3. load the content into a dedicated table in a dedicated MySQL dataset\n",
    "\n",
    "**Data**\n",
    "\n",
    "DWD climate data which is parsed in this notebook can be found [here](https://opendata.dwd.de/climate_environment/CDC/)."
   ]
  },
  {
   "cell_type": "code",
   "execution_count": null,
   "metadata": {},
   "outputs": [],
   "source": [
    "import sys\n",
    "sys.path.append(\"../\")\n",
    "from datapipeline import dwd\n",
    "import logging\n",
    "\n",
    "dwd.logger.setLevel(logging.DEBUG)\n",
    "dwd.ch.setLevel(logging.DEBUG)"
   ]
  },
  {
   "cell_type": "markdown",
   "metadata": {},
   "source": [
    "## Annual climate data\n",
    "\n",
    "**Settings for measurements**"
   ]
  },
  {
   "cell_type": "code",
   "execution_count": null,
   "metadata": {},
   "outputs": [],
   "source": [
    "dry = False\n",
    "base_url = \"https://opendata.dwd.de/climate_environment/CDC/observations_germany/climate/annual/kl/historical/\"\n",
    "extraction_dir = \"../data/climate_annual_kl_historical/extracted\"\n",
    "transformation_dir = \"../data/climate_annual_kl_historical/transformed\"\n",
    "clean = False\n",
    "db_creds_path = \"../db_creds.json\"\n",
    "tmp_table = \"tmp\"\n",
    "target_table = \"measurements_annual\"\n",
    "dataset = \"surreal_weather\"\n",
    "t_wait = .1\n",
    "download_limit = 5"
   ]
  },
  {
   "cell_type": "markdown",
   "metadata": {},
   "source": [
    "**Extraction**"
   ]
  },
  {
   "cell_type": "code",
   "execution_count": null,
   "metadata": {
    "scrolled": true
   },
   "outputs": [],
   "source": [
    "extraction = dwd.Extractor(base_url=base_url, extraction_dir=extraction_dir, dry=dry, t_wait=t_wait,\n",
    "                       download_limit=download_limit)\n",
    "extraction.run()"
   ]
  },
  {
   "cell_type": "markdown",
   "metadata": {},
   "source": [
    "**Transform**"
   ]
  },
  {
   "cell_type": "code",
   "execution_count": null,
   "metadata": {
    "scrolled": true
   },
   "outputs": [],
   "source": [
    "transformation = dwd.Transformator(extraction_dir=extraction_dir, transformation_dir=transformation_dir, dry=dry,\n",
    "                               target_table=target_table)\n",
    "transformation.run(clean=clean)"
   ]
  },
  {
   "cell_type": "markdown",
   "metadata": {},
   "source": [
    "**Loading**\n",
    "\n",
    "[MySQL & pd.DataFrame](https://www.dataquest.io/blog/sql-insert-tutorial/)\n",
    "\n",
    "[pd.DataFrame.to_sql docu](https://pandas.pydata.org/pandas-docs/stable/reference/api/pandas.DataFrame.to_sql.html)\n",
    "\n",
    "[sqlalchemy & connectors ](https://docs.sqlalchemy.org/en/13/dialects/mysql.html#module-sqlalchemy.dialects.mysql.mysqlconnector)"
   ]
  },
  {
   "cell_type": "code",
   "execution_count": null,
   "metadata": {},
   "outputs": [],
   "source": [
    "loading = dwd.Loader(transformation_dir=transformation_dir, db_creds_path=db_creds_path, tmp_table=tmp_table,\n",
    "                 target_table=target_table, dataset=dataset, dry=dry)\n",
    "loading.run(clean=clean)"
   ]
  },
  {
   "cell_type": "markdown",
   "metadata": {},
   "source": [
    "**Settings & loading of stations data (requires extraction and transform steps above)**"
   ]
  },
  {
   "cell_type": "code",
   "execution_count": null,
   "metadata": {},
   "outputs": [],
   "source": [
    "dry = True\n",
    "transformation_dir = \"../data/climate_annual_kl_historical/transformed\"\n",
    "clean = False\n",
    "db_creds_path = \"../db_creds.json\"\n",
    "tmp_table = \"tmp\"\n",
    "target_table = \"stations_annual\"\n",
    "dataset = \"surreal_weather\""
   ]
  },
  {
   "cell_type": "code",
   "execution_count": null,
   "metadata": {},
   "outputs": [],
   "source": [
    "loading = dwd.Loader(transformation_dir=transformation_dir, db_creds_path=db_creds_path, tmp_table=tmp_table,\n",
    "                 target_table=target_table, dataset=dataset, dry=dry)\n",
    "loading.run(clean=clean)"
   ]
  },
  {
   "cell_type": "code",
   "execution_count": null,
   "metadata": {},
   "outputs": [],
   "source": []
  }
 ],
 "metadata": {
  "kernelspec": {
   "display_name": "Python [conda env:py37_tf]",
   "language": "python",
   "name": "conda-env-py37_tf-py"
  },
  "language_info": {
   "codemirror_mode": {
    "name": "ipython",
    "version": 3
   },
   "file_extension": ".py",
   "mimetype": "text/x-python",
   "name": "python",
   "nbconvert_exporter": "python",
   "pygments_lexer": "ipython3",
   "version": "3.7.0"
  }
 },
 "nbformat": 4,
 "nbformat_minor": 4
}
